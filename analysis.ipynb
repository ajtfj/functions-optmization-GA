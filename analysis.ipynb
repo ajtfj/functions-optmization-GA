{
 "cells": [
  {
   "cell_type": "code",
   "execution_count": null,
   "metadata": {},
   "outputs": [],
   "source": [
    "from main import find_solution\n",
    "from Optimization import Optimization\n",
    "from AckleyOptimization import AckleyOptimization\n",
    "from RastriginOptimization import RastriginOptimization\n",
    "from RosenbrockOptimization import RosenbrockOptimization\n",
    "from SchwefelOptimization import SchwefelOptimization\n",
    "import numpy as np\n",
    "import matplotlib.pyplot as plt"
   ]
  },
  {
   "cell_type": "code",
   "execution_count": null,
   "metadata": {},
   "outputs": [],
   "source": [
    "def analyse(optimization: Optimization):\n",
    "    convergedCount = 0\n",
    "    runEvaluation = []\n",
    "    runFitness = []\n",
    "\n",
    "    for i in range(5):\n",
    "        evaluation, best_fitness_history, average_fitness_history = find_solution(optimization)\n",
    "        averageFitness = average_fitness_history[-1]\n",
    "        \n",
    "\n",
    "        print(f\"{i+1}ª execução:\")\n",
    "        print(f\"    Fitness médio: {averageFitness}.\")\n",
    "        \n",
    "        plt.plot(np.array(best_fitness_history), label=\"Best Fitness\")\n",
    "        plt.plot(np.array(average_fitness_history), label=\"Average Fitness\")\n",
    "        plt.legend()\n",
    "        plt.title(\"Convergência do primeiro indivíduo\")\n",
    "        plt.show()\n",
    "        \n",
    "        runEvaluation.append(evaluation)\n",
    "        runFitness.append(averageFitness)\n",
    "\n",
    "    print(f\"O algoritimo convergiu em {convergedCount} execuções.\")\n",
    "\n",
    "    mean = np.mean(runEvaluation)\n",
    "    std = np.std(runEvaluation)\n",
    "    print(f\"Média de iterações em que o algoritimo convergiu: {mean}. Desvio padrão: {std}.\")\n",
    "\n",
    "    mean = np.mean(runFitness)\n",
    "    std = np.std(runFitness)\n",
    "    print(f\"Média de fitness médio alcançado nas 30 execuções: {mean}. Desvio padrão: {std}.\")"
   ]
  },
  {
   "cell_type": "code",
   "execution_count": null,
   "metadata": {},
   "outputs": [],
   "source": [
    "ackleyOptimization = AckleyOptimization(\n",
    "    dimension = 30,\n",
    "    population_size = 50,\n",
    "    mutate_rate = 0.4,\n",
    "    crossover_rate = 0.9,\n",
    "    gene_mutation_rate=0.1,\n",
    ")\n",
    "analyse(ackleyOptimization)"
   ]
  },
  {
   "cell_type": "code",
   "execution_count": null,
   "metadata": {},
   "outputs": [],
   "source": [
    "rastriginOptimization = RastriginOptimization(\n",
    "    dimension = 30,\n",
    "    population_size = 50,\n",
    "    mutate_rate = 0.4,\n",
    "    crossover_rate = 0.9,\n",
    "    gene_mutation_rate=0.1,\n",
    ")\n",
    "analyse(rastriginOptimization)"
   ]
  },
  {
   "cell_type": "code",
   "execution_count": null,
   "metadata": {},
   "outputs": [],
   "source": [
    "rosenbrockOptimization = RosenbrockOptimization(\n",
    "    dimension = 30,\n",
    "    population_size = 50,\n",
    "    mutate_rate = 0.4,\n",
    "    crossover_rate = 0.9,\n",
    "    gene_mutation_rate=0.1,\n",
    ")\n",
    "analyse(rosenbrockOptimization)"
   ]
  },
  {
   "cell_type": "code",
   "execution_count": null,
   "metadata": {},
   "outputs": [],
   "source": [
    "schwefelOptimization = SchwefelOptimization(\n",
    "    dimension = 30,\n",
    "    population_size = 50,\n",
    "    mutate_rate = 0.4,\n",
    "    crossover_rate = 0.9,\n",
    "    gene_mutation_rate=0.1,\n",
    ")\n",
    "analyse(schwefelOptimization)"
   ]
  }
 ],
 "metadata": {
  "kernelspec": {
   "display_name": "Python 3",
   "language": "python",
   "name": "python3"
  },
  "language_info": {
   "codemirror_mode": {
    "name": "ipython",
    "version": 3
   },
   "file_extension": ".py",
   "mimetype": "text/x-python",
   "name": "python",
   "nbconvert_exporter": "python",
   "pygments_lexer": "ipython3",
   "version": "3.10.12"
  },
  "orig_nbformat": 4
 },
 "nbformat": 4,
 "nbformat_minor": 2
}
