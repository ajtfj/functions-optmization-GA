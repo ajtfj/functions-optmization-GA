{
 "cells": [
  {
   "cell_type": "code",
   "execution_count": 1,
   "metadata": {},
   "outputs": [],
   "source": [
    "from main import find_solution\n",
    "from Optimization import Optimization\n",
    "from AckleyOptimization import AckleyOptimization\n",
    "from RastriginOptimization import RastriginOptimization\n",
    "from RosenbrockOptimization import RosenbrockOptimization\n",
    "from SchwefelOptimization import SchwefelOptimization\n",
    "import numpy as np\n",
    "import matplotlib.pyplot as plt"
   ]
  },
  {
   "cell_type": "code",
   "execution_count": 2,
   "metadata": {},
   "outputs": [],
   "source": [
    "def analyse(optimization: Optimization):\n",
    "    convergedCount = 0\n",
    "    runEvaluation = []\n",
    "    runFitness = []\n",
    "\n",
    "    for i in range(30):\n",
    "        evaluation, best_fitness_history, average_fitness_history = find_solution(optimization)\n",
    "        averageFitness = average_fitness_history[-1]\n",
    "        \n",
    "\n",
    "        print(f\"{i+1}ª execução:\")\n",
    "        print(f\"    Fitness médio: {averageFitness}.\")\n",
    "        \n",
    "        plt.plot(np.array(best_fitness_history), label=\"Best Fitness\")\n",
    "        plt.plot(np.array(average_fitness_history), label=\"Average Fitness\")\n",
    "        plt.legend()\n",
    "        plt.title(\"Convergência do primeiro indivíduo\")\n",
    "        plt.show()\n",
    "        \n",
    "        runEvaluation.append(evaluation)\n",
    "        runFitness.append(averageFitness)\n",
    "\n",
    "    print(f\"O algoritimo convergiu em {convergedCount} execuções.\")\n",
    "\n",
    "    mean = np.mean(runEvaluation)\n",
    "    std = np.std(runEvaluation)\n",
    "    print(f\"Média de iterações em que o algoritimo convergiu: {mean}. Desvio padrão: {std}.\")\n",
    "\n",
    "    mean = np.mean(runFitness)\n",
    "    std = np.std(runFitness)\n",
    "    print(f\"Média de fitness médio alcançado nas 30 execuções: {mean}. Desvio padrão: {std}.\")"
   ]
  },
  {
   "cell_type": "code",
   "execution_count": 3,
   "metadata": {},
   "outputs": [],
   "source": [
    "dimension = 30\n",
    "population_size = 50\n",
    "mutate_rate = 0.4\n",
    "crossover_rate = 0.9\n",
    "\n",
    "ackleyOptimization = AckleyOptimization(population_size, dimension, mutate_rate, crossover_rate)\n",
    "rastriginOptimization = RastriginOptimization(population_size, dimension, mutate_rate, crossover_rate)\n",
    "rosenbrockOptimization = RosenbrockOptimization(population_size, dimension, mutate_rate, crossover_rate)\n",
    "schwefelOptimization = SchwefelOptimization(population_size, dimension, mutate_rate, crossover_rate)"
   ]
  },
  {
   "cell_type": "code",
   "execution_count": 4,
   "metadata": {},
   "outputs": [
    {
     "ename": "ValueError",
     "evalue": "empty range for randrange() (0, 0, 0)",
     "output_type": "error",
     "traceback": [
      "\u001b[0;31m---------------------------------------------------------------------------\u001b[0m",
      "\u001b[0;31mValueError\u001b[0m                                Traceback (most recent call last)",
      "Cell \u001b[0;32mIn[4], line 1\u001b[0m\n\u001b[0;32m----> 1\u001b[0m analyse(ackleyOptimization)\n",
      "Cell \u001b[0;32mIn[2], line 7\u001b[0m, in \u001b[0;36manalyse\u001b[0;34m(optimization)\u001b[0m\n\u001b[1;32m      4\u001b[0m runFitness \u001b[39m=\u001b[39m []\n\u001b[1;32m      6\u001b[0m \u001b[39mfor\u001b[39;00m i \u001b[39min\u001b[39;00m \u001b[39mrange\u001b[39m(\u001b[39m30\u001b[39m):\n\u001b[0;32m----> 7\u001b[0m     evaluation, best_fitness_history, average_fitness_history \u001b[39m=\u001b[39m find_solution(optimization)\n\u001b[1;32m      8\u001b[0m     averageFitness \u001b[39m=\u001b[39m average_fitness_history[\u001b[39m-\u001b[39m\u001b[39m1\u001b[39m]\n\u001b[1;32m     11\u001b[0m     \u001b[39mprint\u001b[39m(\u001b[39mf\u001b[39m\u001b[39m\"\u001b[39m\u001b[39m{\u001b[39;00mi\u001b[39m+\u001b[39m\u001b[39m1\u001b[39m\u001b[39m}\u001b[39;00m\u001b[39mª execução:\u001b[39m\u001b[39m\"\u001b[39m)\n",
      "File \u001b[0;32m~/projects/Function_optimization/main.py:16\u001b[0m, in \u001b[0;36mfind_solution\u001b[0;34m(optimization)\u001b[0m\n\u001b[1;32m     14\u001b[0m children \u001b[39m=\u001b[39m []\n\u001b[1;32m     15\u001b[0m \u001b[39mfor\u001b[39;00m _ \u001b[39min\u001b[39;00m \u001b[39mrange\u001b[39m(\u001b[39m5\u001b[39m):\n\u001b[0;32m---> 16\u001b[0m     children\u001b[39m.\u001b[39mextend(optimization\u001b[39m.\u001b[39;49mcrossover(parents[\u001b[39m0\u001b[39;49m], parents[\u001b[39m1\u001b[39;49m]))\n\u001b[1;32m     17\u001b[0m optimization\u001b[39m.\u001b[39msurvivors_select(children)\n\u001b[1;32m     18\u001b[0m population_fitness \u001b[39m=\u001b[39m optimization\u001b[39m.\u001b[39mrank()\n",
      "File \u001b[0;32m~/projects/Function_optimization/Optimization.py:30\u001b[0m, in \u001b[0;36mOptimization.crossover\u001b[0;34m(self, parent_1, parent_2)\u001b[0m\n\u001b[1;32m     28\u001b[0m     child_2\u001b[39m.\u001b[39mappend(a\u001b[39m*\u001b[39mp[\u001b[39m1\u001b[39m] \u001b[39m+\u001b[39m (\u001b[39m1\u001b[39m\u001b[39m-\u001b[39ma)\u001b[39m*\u001b[39mp[\u001b[39m0\u001b[39m])\n\u001b[1;32m     29\u001b[0m     \u001b[39mif\u001b[39;00m random\u001b[39m.\u001b[39muniform(\u001b[39m0\u001b[39m,\u001b[39m1\u001b[39m) \u001b[39m<\u001b[39m\u001b[39m=\u001b[39m \u001b[39mself\u001b[39m\u001b[39m.\u001b[39mmutate_rate:\n\u001b[0;32m---> 30\u001b[0m         child_1 \u001b[39m=\u001b[39m \u001b[39mself\u001b[39;49m\u001b[39m.\u001b[39;49mmutate(child_1)\n\u001b[1;32m     31\u001b[0m         child_2 \u001b[39m=\u001b[39m \u001b[39mself\u001b[39m\u001b[39m.\u001b[39mmutate(child_2)\n\u001b[1;32m     33\u001b[0m \u001b[39mreturn\u001b[39;00m [child_1, child_2]\n",
      "File \u001b[0;32m~/projects/Function_optimization/Optimization.py:14\u001b[0m, in \u001b[0;36mOptimization.mutate\u001b[0;34m(self, chromossome)\u001b[0m\n\u001b[1;32m     13\u001b[0m \u001b[39mdef\u001b[39;00m \u001b[39mmutate\u001b[39m(\u001b[39mself\u001b[39m, chromossome: \u001b[39mlist\u001b[39m[\u001b[39mfloat\u001b[39m]):\n\u001b[0;32m---> 14\u001b[0m     start \u001b[39m=\u001b[39m random\u001b[39m.\u001b[39;49mrandint(\u001b[39m0\u001b[39;49m, \u001b[39mlen\u001b[39;49m(chromossome) \u001b[39m-\u001b[39;49m \u001b[39m2\u001b[39;49m)\n\u001b[1;32m     15\u001b[0m     end \u001b[39m=\u001b[39m random\u001b[39m.\u001b[39mrandint(start \u001b[39m+\u001b[39m \u001b[39m1\u001b[39m, \u001b[39mlen\u001b[39m(chromossome) \u001b[39m-\u001b[39m\u001b[39m1\u001b[39m)\n\u001b[1;32m     16\u001b[0m     chromossome[start:end] \u001b[39m=\u001b[39m \u001b[39mreversed\u001b[39m(chromossome[start:end])\n",
      "File \u001b[0;32m/usr/lib/python3.10/random.py:370\u001b[0m, in \u001b[0;36mRandom.randint\u001b[0;34m(self, a, b)\u001b[0m\n\u001b[1;32m    366\u001b[0m \u001b[39mdef\u001b[39;00m \u001b[39mrandint\u001b[39m(\u001b[39mself\u001b[39m, a, b):\n\u001b[1;32m    367\u001b[0m \u001b[39m    \u001b[39m\u001b[39m\"\"\"Return random integer in range [a, b], including both end points.\u001b[39;00m\n\u001b[1;32m    368\u001b[0m \u001b[39m    \"\"\"\u001b[39;00m\n\u001b[0;32m--> 370\u001b[0m     \u001b[39mreturn\u001b[39;00m \u001b[39mself\u001b[39;49m\u001b[39m.\u001b[39;49mrandrange(a, b\u001b[39m+\u001b[39;49m\u001b[39m1\u001b[39;49m)\n",
      "File \u001b[0;32m/usr/lib/python3.10/random.py:353\u001b[0m, in \u001b[0;36mRandom.randrange\u001b[0;34m(self, start, stop, step)\u001b[0m\n\u001b[1;32m    351\u001b[0m     \u001b[39mif\u001b[39;00m width \u001b[39m>\u001b[39m \u001b[39m0\u001b[39m:\n\u001b[1;32m    352\u001b[0m         \u001b[39mreturn\u001b[39;00m istart \u001b[39m+\u001b[39m \u001b[39mself\u001b[39m\u001b[39m.\u001b[39m_randbelow(width)\n\u001b[0;32m--> 353\u001b[0m     \u001b[39mraise\u001b[39;00m \u001b[39mValueError\u001b[39;00m(\u001b[39m\"\u001b[39m\u001b[39mempty range for randrange() (\u001b[39m\u001b[39m%d\u001b[39;00m\u001b[39m, \u001b[39m\u001b[39m%d\u001b[39;00m\u001b[39m, \u001b[39m\u001b[39m%d\u001b[39;00m\u001b[39m)\u001b[39m\u001b[39m\"\u001b[39m \u001b[39m%\u001b[39m (istart, istop, width))\n\u001b[1;32m    355\u001b[0m \u001b[39m# Non-unit step argument supplied.\u001b[39;00m\n\u001b[1;32m    356\u001b[0m \u001b[39mif\u001b[39;00m istep \u001b[39m>\u001b[39m \u001b[39m0\u001b[39m:\n",
      "\u001b[0;31mValueError\u001b[0m: empty range for randrange() (0, 0, 0)"
     ]
    }
   ],
   "source": [
    "analyse(ackleyOptimization)"
   ]
  }
 ],
 "metadata": {
  "kernelspec": {
   "display_name": "Python 3",
   "language": "python",
   "name": "python3"
  },
  "language_info": {
   "codemirror_mode": {
    "name": "ipython",
    "version": 3
   },
   "file_extension": ".py",
   "mimetype": "text/x-python",
   "name": "python",
   "nbconvert_exporter": "python",
   "pygments_lexer": "ipython3",
   "version": "3.10.12"
  },
  "orig_nbformat": 4
 },
 "nbformat": 4,
 "nbformat_minor": 2
}
